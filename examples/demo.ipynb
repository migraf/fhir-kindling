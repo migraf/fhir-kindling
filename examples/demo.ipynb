{
 "cells": [
  {
   "cell_type": "markdown",
   "metadata": {
    "pycharm": {
     "name": "#%% md\n"
    },
    "slideshow": {
     "slide_type": "slide"
    }
   },
   "source": [
    "<center><h1>🔥  FHIR Kindling</h1></center>"
   ]
  },
  {
   "cell_type": "markdown",
   "metadata": {
    "pycharm": {
     "name": "#%% md\n"
    },
    "slideshow": {
     "slide_type": "fragment"
    }
   },
   "source": [
    "<center>Python fhir client library for easier and safer interactions with FHIR servers and resources</center>"
   ]
  },
  {
   "cell_type": "markdown",
   "metadata": {
    "slideshow": {
     "slide_type": "slide"
    },
    "pycharm": {
     "name": "#%% md\n"
    }
   },
   "source": [
    "## Why this library was made\n",
    "- PHT requires FHIR project warehouses\n",
    "- Data transfer between FHIR servers difficult and tedious\n",
    "- No automatic conversion to tabular format for analysis\n",
    "- Existing libraries felt slow\n"
   ]
  },
  {
   "cell_type": "markdown",
   "metadata": {
    "pycharm": {
     "name": "#%% md\n"
    },
    "slideshow": {
     "slide_type": "slide"
    }
   },
   "source": [
    "\n",
    "## Features\n",
    "\n",
    "- Create, Read, Update and Delete resources using a server's REST API\n",
    "- Resource validation powered by pydantic models\n",
    "- Transfer resources between FHIR servers\n",
    "- CSV/Dataframe serialization for resources & bundles\n",
    "- Synthetic data generation and upload\n"
   ]
  },
  {
   "cell_type": "markdown",
   "metadata": {
    "slideshow": {
     "slide_type": "slide"
    },
    "pycharm": {
     "name": "#%% md\n"
    }
   },
   "source": [
    "<center><img src=\"benchmark.png\" alt=\"benchmark\" style=\"width:1300px; height: 800px\"/></center>"
   ]
  },
  {
   "cell_type": "markdown",
   "metadata": {
    "pycharm": {
     "name": "#%% md\n"
    },
    "slideshow": {
     "slide_type": "slide"
    }
   },
   "source": [
    "## Installation\n",
    "\n",
    "Install the latest published version from pypi:\n",
    "```bash\n",
    "pip install --user fhir-kindling\n",
    "```\n",
    "or install the newest version directly from github:\n",
    "```bash\n",
    "pip install --user git+https://github.com/migraf/fhir-kindling.git\n",
    "```\n",
    "\n",
    "More details can be found in the [documentation]()\n"
   ]
  },
  {
   "cell_type": "code",
   "execution_count": null,
   "metadata": {
    "pycharm": {
     "name": "#%%\n"
    },
    "slideshow": {
     "slide_type": "skip"
    }
   },
   "outputs": [],
   "source": [
    "!pip install --upgrade fhir-kindling\n",
    "!pip install RISE"
   ]
  },
  {
   "cell_type": "markdown",
   "metadata": {
    "pycharm": {
     "name": "#%% md\n"
    },
    "slideshow": {
     "slide_type": "slide"
    }
   },
   "source": [
    "<center><h2>👨‍💻   How to use the library</h2></center>"
   ]
  },
  {
   "cell_type": "markdown",
   "metadata": {
    "slideshow": {
     "slide_type": "slide"
    },
    "pycharm": {
     "name": "#%% md\n"
    }
   },
   "source": [
    "## Connecting to a server\n",
    "\n",
    "- Different auth methods: Basic, Bearer, OIDC\n",
    "- Configuration of proxies and custom headers"
   ]
  },
  {
   "cell_type": "code",
   "execution_count": 58,
   "metadata": {
    "pycharm": {
     "name": "#%%\n"
    },
    "slideshow": {
     "slide_type": "fragment"
    }
   },
   "outputs": [],
   "source": [
    "import os\n",
    "from dotenv import load_dotenv, find_dotenv\n",
    "from fhir_kindling import FhirServer\n",
    "\n",
    "_ = load_dotenv(find_dotenv())"
   ]
  },
  {
   "cell_type": "code",
   "execution_count": 59,
   "metadata": {
    "pycharm": {
     "name": "#%%\n"
    },
    "slideshow": {
     "slide_type": "-"
    }
   },
   "outputs": [],
   "source": [
    "\n",
    "fhir_api = \"https://demo.personalhealthtrain.de/demo-fhir-3\"\n",
    "username = os.getenv(\"DEMO_USER\")\n",
    "password = os.getenv(\"DEMO_PW\")\n",
    "server = FhirServer(\n",
    "    api_address=fhir_api,\n",
    "    username=username,\n",
    "    password=password,\n",
    ")"
   ]
  },
  {
   "cell_type": "markdown",
   "metadata": {
    "pycharm": {
     "name": "#%% md\n"
    },
    "slideshow": {
     "slide_type": "slide"
    }
   },
   "source": [
    "## Query for resources\n",
    "\n",
    "Query the server with the `query()` method of the server class."
   ]
  },
  {
   "cell_type": "markdown",
   "metadata": {
    "pycharm": {
     "name": "#%% md\n"
    },
    "slideshow": {
     "slide_type": "fragment"
    }
   },
   "source": [
    "Three ways to define a query:\n",
    "- Iteratively build the query on a resource using methods like `where()`, `include()`, `has()`\n",
    "- Use an existing `query_string` to define the query i.e. `Patient?_id=123\"`\n",
    "- Pass a `FHIRQueryParameters` object to the query method"
   ]
  },
  {
   "cell_type": "markdown",
   "metadata": {
    "pycharm": {
     "name": "#%% md\n"
    },
    "slideshow": {
     "slide_type": "slide"
    }
   },
   "source": [
    "## Iteratively building a query\n",
    "\n",
    "Start building a query by selecting the base resource first"
   ]
  },
  {
   "cell_type": "code",
   "execution_count": 60,
   "metadata": {
    "pycharm": {
     "name": "#%%\n"
    },
    "slideshow": {
     "slide_type": "fragment"
    }
   },
   "outputs": [
    {
     "data": {
      "text/plain": [
       "'https://demo.personalhealthtrain.de/demo-fhir-3/Patient?&_count=5000&_format=json'"
      ]
     },
     "execution_count": 60,
     "metadata": {},
     "output_type": "execute_result"
    }
   ],
   "source": [
    "query = server.query(\"Patient\")\n",
    "query.query_url"
   ]
  },
  {
   "cell_type": "markdown",
   "metadata": {
    "pycharm": {
     "name": "#%% md\n"
    },
    "slideshow": {
     "slide_type": "slide"
    }
   },
   "source": [
    "### Querying the server\n",
    "the query is executed against the server using one of the methods `all()`, `first()`, `limit()`"
   ]
  },
  {
   "cell_type": "code",
   "execution_count": 61,
   "metadata": {
    "pycharm": {
     "name": "#%%\n"
    },
    "slideshow": {
     "slide_type": "fragment"
    }
   },
   "outputs": [
    {
     "data": {
      "text/plain": [
       "<QueryResponse(resource=Patient, n=673)>"
      ]
     },
     "execution_count": 61,
     "metadata": {},
     "output_type": "execute_result"
    }
   ],
   "source": [
    "response = query.all()\n",
    "response"
   ]
  },
  {
   "cell_type": "code",
   "execution_count": 62,
   "metadata": {
    "pycharm": {
     "name": "#%%\n"
    },
    "slideshow": {
     "slide_type": "fragment"
    }
   },
   "outputs": [
    {
     "data": {
      "text/plain": [
       "<QueryResponse(resource=Patient, n=5)>"
      ]
     },
     "execution_count": 62,
     "metadata": {},
     "output_type": "execute_result"
    }
   ],
   "source": [
    "response = query.limit(5)\n",
    "response"
   ]
  },
  {
   "cell_type": "markdown",
   "metadata": {
    "pycharm": {
     "name": "#%% md\n"
    },
    "slideshow": {
     "slide_type": "fragment"
    }
   },
   "source": [
    "Accessing the resources in a `QueryResponse` object."
   ]
  },
  {
   "cell_type": "code",
   "execution_count": 63,
   "metadata": {
    "pycharm": {
     "name": "#%%\n"
    }
   },
   "outputs": [
    {
     "data": {
      "text/plain": [
       "Patient(resource_type='Patient', fhir_comments=None, id='1', implicitRules=None, implicitRules__ext=None, language=None, language__ext=None, meta=Meta(resource_type='Meta', fhir_comments=None, extension=None, id=None, lastUpdated=datetime.datetime(2022, 6, 8, 10, 36, 17, 669000, tzinfo=datetime.timezone.utc), lastUpdated__ext=None, profile=None, profile__ext=None, security=None, source='#SCHsV8ok4VcRcOjM', source__ext=None, tag=None, versionId='1', versionId__ext=None), contained=None, extension=None, modifierExtension=None, text=Narrative(resource_type='Narrative', fhir_comments=None, extension=None, id=None, div='<div xmlns=\"http://www.w3.org/1999/xhtml\"><div class=\"hapiHeaderText\">Duncann <b>NOVARA </b></div><table class=\"hapiPropertyTable\"><tbody><tr><td>Date of birth</td><td><span>08 August 1968</span></td></tr></tbody></table></div>', div__ext=None, status='generated', status__ext=None), active=None, active__ext=None, address=None, birthDate=datetime.date(1968, 8, 8), birthDate__ext=None, communication=None, contact=None, deceasedBoolean=None, deceasedBoolean__ext=None, deceasedDateTime=None, deceasedDateTime__ext=None, gender='male', gender__ext=None, generalPractitioner=None, identifier=None, link=None, managingOrganization=None, maritalStatus=None, multipleBirthBoolean=None, multipleBirthBoolean__ext=None, multipleBirthInteger=None, multipleBirthInteger__ext=None, name=[HumanName(resource_type='HumanName', fhir_comments=None, extension=None, id=None, family='Novara', family__ext=None, given=['Duncann'], given__ext=None, period=None, prefix=None, prefix__ext=None, suffix=None, suffix__ext=None, text=None, text__ext=None, use=None, use__ext=None)], photo=None, telecom=None)"
      ]
     },
     "execution_count": 63,
     "metadata": {},
     "output_type": "execute_result"
    }
   ],
   "source": [
    "response.resources[0] "
   ]
  },
  {
   "cell_type": "markdown",
   "metadata": {
    "pycharm": {
     "name": "#%% md\n"
    },
    "slideshow": {
     "slide_type": "slide"
    }
   },
   "source": [
    "### Adding filter conditions\n",
    "\n",
    "Filter parameters are added on the fields of the base resource using the `where()` method."
   ]
  },
  {
   "cell_type": "code",
   "execution_count": 64,
   "metadata": {
    "pycharm": {
     "name": "#%%\n"
    }
   },
   "outputs": [
    {
     "data": {
      "text/plain": [
       "'https://demo.personalhealthtrain.de/demo-fhir-3/Patient?birthdate=lt2000-01-01&_count=5000&_format=json'"
      ]
     },
     "execution_count": 64,
     "metadata": {},
     "output_type": "execute_result"
    }
   ],
   "source": [
    "query_2 = server.query(\"Patient\").where(\"birthdate\", \"lt\", \"2000-01-01\")\n",
    "query_2.query_url"
   ]
  },
  {
   "cell_type": "code",
   "execution_count": 65,
   "metadata": {
    "pycharm": {
     "name": "#%%\n"
    }
   },
   "outputs": [
    {
     "data": {
      "text/plain": [
       "<QueryResponse(resource=Patient, n=632)>"
      ]
     },
     "execution_count": 65,
     "metadata": {},
     "output_type": "execute_result"
    }
   ],
   "source": [
    "query_2.all()"
   ]
  },
  {
   "cell_type": "markdown",
   "metadata": {
    "pycharm": {
     "name": "#%% md\n"
    },
    "slideshow": {
     "slide_type": "slide"
    }
   },
   "source": [
    "### Including related resources"
   ]
  },
  {
   "cell_type": "code",
   "execution_count": 66,
   "metadata": {
    "pycharm": {
     "name": "#%%\n"
    }
   },
   "outputs": [
    {
     "data": {
      "text/plain": [
       "'https://demo.personalhealthtrain.de/demo-fhir-3/Patient?birthdate=lt2000-01-01&_revinclude=Condition:subject&_count=5000&_format=json'"
      ]
     },
     "execution_count": 66,
     "metadata": {},
     "output_type": "execute_result"
    }
   ],
   "source": [
    "query_3 = query_2.include(resource=\"Condition\", reference_param=\"subject\", reverse=True)\n",
    "query_3.query_url"
   ]
  },
  {
   "cell_type": "code",
   "execution_count": 67,
   "metadata": {
    "pycharm": {
     "name": "#%%\n"
    }
   },
   "outputs": [
    {
     "data": {
      "text/plain": [
       "<QueryResponse(resource=Patient, format=json, included_resources=['Condition'])>"
      ]
     },
     "execution_count": 67,
     "metadata": {},
     "output_type": "execute_result"
    }
   ],
   "source": [
    "resp = query_3.all()\n",
    "resp"
   ]
  },
  {
   "cell_type": "markdown",
   "metadata": {
    "pycharm": {
     "name": "#%% md\n"
    },
    "slideshow": {
     "slide_type": "slide"
    }
   },
   "source": [
    "## Working with the response\n",
    "\n",
    "The response to the query is a `QueryResponse` object.\n",
    "\n",
    "- The `resources` attribute contains a list of resources of the base resource type returned by the query\n",
    "- The `included_resources` attribute contains a list of included resources. Each entry in the list represents a list of resources of a certain type\n"
   ]
  },
  {
   "cell_type": "code",
   "execution_count": 68,
   "metadata": {
    "pycharm": {
     "name": "#%%\n"
    }
   },
   "outputs": [
    {
     "data": {
      "text/plain": [
       "['Condition']"
      ]
     },
     "execution_count": 68,
     "metadata": {},
     "output_type": "execute_result"
    }
   ],
   "source": [
    " [resource.resource_type for resource in resp.included_resources]"
   ]
  },
  {
   "cell_type": "code",
   "execution_count": 69,
   "metadata": {
    "pycharm": {
     "name": "#%%\n"
    }
   },
   "outputs": [
    {
     "data": {
      "text/plain": [
       "Condition(resource_type='Condition', fhir_comments=None, id='1077', implicitRules=None, implicitRules__ext=None, language=None, language__ext=None, meta=Meta(resource_type='Meta', fhir_comments=None, extension=None, id=None, lastUpdated=datetime.datetime(2022, 7, 27, 7, 12, 2, 341000, tzinfo=datetime.timezone.utc), lastUpdated__ext=None, profile=None, profile__ext=None, security=None, source='#oHMhBq6cAstLdzrN', source__ext=None, tag=None, versionId='1', versionId__ext=None), contained=None, extension=None, modifierExtension=None, text=None, abatementAge=None, abatementDateTime=None, abatementDateTime__ext=None, abatementPeriod=None, abatementRange=None, abatementString=None, abatementString__ext=None, asserter=None, bodySite=None, category=None, clinicalStatus=None, code=CodeableConcept(resource_type='CodeableConcept', fhir_comments=None, extension=None, id=None, coding=[Coding(resource_type='Coding', fhir_comments=None, extension=None, id=None, code='RA01.0', code__ext=None, display='COVID-19, virus identified', display__ext=None, system='http://id.who.int/icd/release/11/mms', system__ext=None, userSelected=None, userSelected__ext=None, version=None, version__ext=None)], text='COVID-19', text__ext=None), encounter=None, evidence=None, identifier=None, note=None, onsetAge=None, onsetDateTime=None, onsetDateTime__ext=None, onsetPeriod=None, onsetRange=None, onsetString=None, onsetString__ext=None, recordedDate=None, recordedDate__ext=None, recorder=None, severity=None, stage=None, subject=Reference(resource_type='Reference', fhir_comments=None, extension=None, id=None, display=None, display__ext=None, identifier=None, reference='Patient/899', reference__ext=None, type=None, type__ext=None), verificationStatus=None)"
      ]
     },
     "execution_count": 69,
     "metadata": {},
     "output_type": "execute_result"
    }
   ],
   "source": [
    "resp.included_resources[0].resources[0]"
   ]
  },
  {
   "cell_type": "markdown",
   "metadata": {
    "pycharm": {
     "name": "#%% md\n"
    },
    "slideshow": {
     "slide_type": "slide"
    }
   },
   "source": [
    "## Saving the response\n",
    "\n",
    "Responses can be saved to a file using the `save()` method of the `QueryResponse` class.\n",
    "Supported formats are `json`, `xml` (if the query was executed with `xml` format) and `csv`."
   ]
  },
  {
   "cell_type": "code",
   "execution_count": 70,
   "metadata": {
    "pycharm": {
     "name": "#%%\n"
    }
   },
   "outputs": [],
   "source": [
    "path = os.path.join(os.getcwd(), \"query_response.json\")\n",
    "\n",
    "resp.save(file_path=path)"
   ]
  },
  {
   "cell_type": "code",
   "execution_count": 71,
   "metadata": {
    "pycharm": {
     "name": "#%%\n"
    }
   },
   "outputs": [
    {
     "name": "stdout",
     "output_type": "stream",
     "text": [
      "{\n",
      "  \"resourceType\": \"Bundle\",\n",
      "  \"id\": \"d63030a4-923d-4f99-8a6d-12b531d3ff84\",\n",
      "  \"meta\": {\n",
      "    \"lastUpdated\": \"2022-09-06T15:00:39.337000+00:00\"\n",
      "  },\n",
      "  \"type\": \"searchset\",\n",
      "  \"total\": 632,\n",
      "\n"
     ]
    }
   ],
   "source": [
    "with open(path, \"r\") as f:\n",
    "    print(\"\".join(f.readlines()[:8]))"
   ]
  },
  {
   "cell_type": "markdown",
   "metadata": {
    "pycharm": {
     "name": "#%% md\n"
    },
    "slideshow": {
     "slide_type": "slide"
    }
   },
   "source": [
    "## Serializing resources into a pandas dataframe\n",
    "\n",
    "A response (or any bundle) can be serialized into pandas dataframes.\n",
    "If the response contains resources of different types, the resources are serialized into separate dataframes for each type."
   ]
  },
  {
   "cell_type": "code",
   "execution_count": 72,
   "metadata": {
    "pycharm": {
     "name": "#%%\n"
    }
   },
   "outputs": [],
   "source": [
    "dfs = resp.to_dfs()"
   ]
  },
  {
   "cell_type": "code",
   "execution_count": 73,
   "metadata": {
    "pycharm": {
     "name": "#%%\n"
    },
    "slideshow": {
     "slide_type": "fragment"
    }
   },
   "outputs": [
    {
     "data": {
      "text/html": [
       "<div>\n",
       "<style scoped>\n",
       "    .dataframe tbody tr th:only-of-type {\n",
       "        vertical-align: middle;\n",
       "    }\n",
       "\n",
       "    .dataframe tbody tr th {\n",
       "        vertical-align: top;\n",
       "    }\n",
       "\n",
       "    .dataframe thead th {\n",
       "        text-align: right;\n",
       "    }\n",
       "</style>\n",
       "<table border=\"1\" class=\"dataframe\">\n",
       "  <thead>\n",
       "    <tr style=\"text-align: right;\">\n",
       "      <th></th>\n",
       "      <th>resourceType</th>\n",
       "      <th>id</th>\n",
       "      <th>meta_versionId</th>\n",
       "      <th>meta_lastUpdated</th>\n",
       "      <th>meta_source</th>\n",
       "      <th>text_status</th>\n",
       "      <th>text_div</th>\n",
       "      <th>name_0_family</th>\n",
       "      <th>name_0_given_0</th>\n",
       "      <th>gender</th>\n",
       "      <th>birthDate</th>\n",
       "    </tr>\n",
       "  </thead>\n",
       "  <tbody>\n",
       "    <tr>\n",
       "      <th>0</th>\n",
       "      <td>Patient</td>\n",
       "      <td>682</td>\n",
       "      <td>1</td>\n",
       "      <td>2022-07-26 15:13:18.680000+00:00</td>\n",
       "      <td>#hH1NYHyZmZNGbOAI</td>\n",
       "      <td>generated</td>\n",
       "      <td>&lt;div xmlns=\"http://www.w3.org/1999/xhtml\"&gt;&lt;div...</td>\n",
       "      <td>Giovanini</td>\n",
       "      <td>Erford</td>\n",
       "      <td>other</td>\n",
       "      <td>1921-09-11</td>\n",
       "    </tr>\n",
       "    <tr>\n",
       "      <th>1</th>\n",
       "      <td>Patient</td>\n",
       "      <td>100</td>\n",
       "      <td>1</td>\n",
       "      <td>2022-06-08 10:36:17.669000+00:00</td>\n",
       "      <td>#SCHsV8ok4VcRcOjM</td>\n",
       "      <td>generated</td>\n",
       "      <td>&lt;div xmlns=\"http://www.w3.org/1999/xhtml\"&gt;&lt;div...</td>\n",
       "      <td>Aiola</td>\n",
       "      <td>Tyniqua</td>\n",
       "      <td>male</td>\n",
       "      <td>1921-09-30</td>\n",
       "    </tr>\n",
       "    <tr>\n",
       "      <th>2</th>\n",
       "      <td>Patient</td>\n",
       "      <td>391</td>\n",
       "      <td>1</td>\n",
       "      <td>2022-07-26 14:18:27.623000+00:00</td>\n",
       "      <td>#QmJ643x11dMzK1oE</td>\n",
       "      <td>generated</td>\n",
       "      <td>&lt;div xmlns=\"http://www.w3.org/1999/xhtml\"&gt;&lt;div...</td>\n",
       "      <td>Graveran</td>\n",
       "      <td>Elliekate</td>\n",
       "      <td>female</td>\n",
       "      <td>1921-11-04</td>\n",
       "    </tr>\n",
       "    <tr>\n",
       "      <th>3</th>\n",
       "      <td>Patient</td>\n",
       "      <td>683</td>\n",
       "      <td>1</td>\n",
       "      <td>2022-07-26 15:13:18.680000+00:00</td>\n",
       "      <td>#hH1NYHyZmZNGbOAI</td>\n",
       "      <td>generated</td>\n",
       "      <td>&lt;div xmlns=\"http://www.w3.org/1999/xhtml\"&gt;&lt;div...</td>\n",
       "      <td>Loosen</td>\n",
       "      <td>Monigue</td>\n",
       "      <td>female</td>\n",
       "      <td>1921-11-27</td>\n",
       "    </tr>\n",
       "    <tr>\n",
       "      <th>4</th>\n",
       "      <td>Patient</td>\n",
       "      <td>407</td>\n",
       "      <td>1</td>\n",
       "      <td>2022-07-26 14:18:27.623000+00:00</td>\n",
       "      <td>#QmJ643x11dMzK1oE</td>\n",
       "      <td>generated</td>\n",
       "      <td>&lt;div xmlns=\"http://www.w3.org/1999/xhtml\"&gt;&lt;div...</td>\n",
       "      <td>Anuska</td>\n",
       "      <td>Zamoni</td>\n",
       "      <td>female</td>\n",
       "      <td>1921-11-30</td>\n",
       "    </tr>\n",
       "  </tbody>\n",
       "</table>\n",
       "</div>"
      ],
      "text/plain": [
       "  resourceType   id meta_versionId                 meta_lastUpdated  \\\n",
       "0      Patient  682              1 2022-07-26 15:13:18.680000+00:00   \n",
       "1      Patient  100              1 2022-06-08 10:36:17.669000+00:00   \n",
       "2      Patient  391              1 2022-07-26 14:18:27.623000+00:00   \n",
       "3      Patient  683              1 2022-07-26 15:13:18.680000+00:00   \n",
       "4      Patient  407              1 2022-07-26 14:18:27.623000+00:00   \n",
       "\n",
       "         meta_source text_status  \\\n",
       "0  #hH1NYHyZmZNGbOAI   generated   \n",
       "1  #SCHsV8ok4VcRcOjM   generated   \n",
       "2  #QmJ643x11dMzK1oE   generated   \n",
       "3  #hH1NYHyZmZNGbOAI   generated   \n",
       "4  #QmJ643x11dMzK1oE   generated   \n",
       "\n",
       "                                            text_div name_0_family  \\\n",
       "0  <div xmlns=\"http://www.w3.org/1999/xhtml\"><div...     Giovanini   \n",
       "1  <div xmlns=\"http://www.w3.org/1999/xhtml\"><div...         Aiola   \n",
       "2  <div xmlns=\"http://www.w3.org/1999/xhtml\"><div...      Graveran   \n",
       "3  <div xmlns=\"http://www.w3.org/1999/xhtml\"><div...        Loosen   \n",
       "4  <div xmlns=\"http://www.w3.org/1999/xhtml\"><div...        Anuska   \n",
       "\n",
       "  name_0_given_0  gender   birthDate  \n",
       "0         Erford   other  1921-09-11  \n",
       "1        Tyniqua    male  1921-09-30  \n",
       "2      Elliekate  female  1921-11-04  \n",
       "3        Monigue  female  1921-11-27  \n",
       "4         Zamoni  female  1921-11-30  "
      ]
     },
     "execution_count": 73,
     "metadata": {},
     "output_type": "execute_result"
    }
   ],
   "source": [
    "dfs[0].head()"
   ]
  },
  {
   "cell_type": "code",
   "execution_count": 74,
   "metadata": {
    "pycharm": {
     "name": "#%%\n"
    },
    "slideshow": {
     "slide_type": "slide"
    }
   },
   "outputs": [
    {
     "data": {
      "text/html": [
       "<div>\n",
       "<style scoped>\n",
       "    .dataframe tbody tr th:only-of-type {\n",
       "        vertical-align: middle;\n",
       "    }\n",
       "\n",
       "    .dataframe tbody tr th {\n",
       "        vertical-align: top;\n",
       "    }\n",
       "\n",
       "    .dataframe thead th {\n",
       "        text-align: right;\n",
       "    }\n",
       "</style>\n",
       "<table border=\"1\" class=\"dataframe\">\n",
       "  <thead>\n",
       "    <tr style=\"text-align: right;\">\n",
       "      <th></th>\n",
       "      <th>resourceType</th>\n",
       "      <th>id</th>\n",
       "      <th>meta_versionId</th>\n",
       "      <th>meta_lastUpdated</th>\n",
       "      <th>meta_source</th>\n",
       "      <th>code_coding_0_system</th>\n",
       "      <th>code_coding_0_code</th>\n",
       "      <th>code_coding_0_display</th>\n",
       "      <th>code_text</th>\n",
       "      <th>subject_reference</th>\n",
       "      <th>clinicalStatus_coding_0_system</th>\n",
       "      <th>clinicalStatus_coding_0_code</th>\n",
       "      <th>clinicalStatus_coding_0_display</th>\n",
       "    </tr>\n",
       "  </thead>\n",
       "  <tbody>\n",
       "    <tr>\n",
       "      <th>0</th>\n",
       "      <td>Condition</td>\n",
       "      <td>1077</td>\n",
       "      <td>1</td>\n",
       "      <td>2022-07-27 07:12:02.341000+00:00</td>\n",
       "      <td>#oHMhBq6cAstLdzrN</td>\n",
       "      <td>http://id.who.int/icd/release/11/mms</td>\n",
       "      <td>RA01.0</td>\n",
       "      <td>COVID-19, virus identified</td>\n",
       "      <td>COVID-19</td>\n",
       "      <td>Patient/899</td>\n",
       "      <td>NaN</td>\n",
       "      <td>NaN</td>\n",
       "      <td>NaN</td>\n",
       "    </tr>\n",
       "    <tr>\n",
       "      <th>1</th>\n",
       "      <td>Condition</td>\n",
       "      <td>1078</td>\n",
       "      <td>1</td>\n",
       "      <td>2022-07-27 07:12:02.341000+00:00</td>\n",
       "      <td>#oHMhBq6cAstLdzrN</td>\n",
       "      <td>http://id.who.int/icd/release/11/mms</td>\n",
       "      <td>RA01.0</td>\n",
       "      <td>COVID-19, virus identified</td>\n",
       "      <td>COVID-19</td>\n",
       "      <td>Patient/900</td>\n",
       "      <td>NaN</td>\n",
       "      <td>NaN</td>\n",
       "      <td>NaN</td>\n",
       "    </tr>\n",
       "    <tr>\n",
       "      <th>2</th>\n",
       "      <td>Condition</td>\n",
       "      <td>1079</td>\n",
       "      <td>1</td>\n",
       "      <td>2022-07-27 07:12:02.341000+00:00</td>\n",
       "      <td>#oHMhBq6cAstLdzrN</td>\n",
       "      <td>http://id.who.int/icd/release/11/mms</td>\n",
       "      <td>RA01.0</td>\n",
       "      <td>COVID-19, virus identified</td>\n",
       "      <td>COVID-19</td>\n",
       "      <td>Patient/901</td>\n",
       "      <td>NaN</td>\n",
       "      <td>NaN</td>\n",
       "      <td>NaN</td>\n",
       "    </tr>\n",
       "    <tr>\n",
       "      <th>3</th>\n",
       "      <td>Condition</td>\n",
       "      <td>1080</td>\n",
       "      <td>1</td>\n",
       "      <td>2022-07-27 07:12:02.341000+00:00</td>\n",
       "      <td>#oHMhBq6cAstLdzrN</td>\n",
       "      <td>http://id.who.int/icd/release/11/mms</td>\n",
       "      <td>RA01.0</td>\n",
       "      <td>COVID-19, virus identified</td>\n",
       "      <td>COVID-19</td>\n",
       "      <td>Patient/902</td>\n",
       "      <td>NaN</td>\n",
       "      <td>NaN</td>\n",
       "      <td>NaN</td>\n",
       "    </tr>\n",
       "    <tr>\n",
       "      <th>4</th>\n",
       "      <td>Condition</td>\n",
       "      <td>1081</td>\n",
       "      <td>1</td>\n",
       "      <td>2022-07-27 07:12:02.341000+00:00</td>\n",
       "      <td>#oHMhBq6cAstLdzrN</td>\n",
       "      <td>http://id.who.int/icd/release/11/mms</td>\n",
       "      <td>RA01.0</td>\n",
       "      <td>COVID-19, virus identified</td>\n",
       "      <td>COVID-19</td>\n",
       "      <td>Patient/903</td>\n",
       "      <td>NaN</td>\n",
       "      <td>NaN</td>\n",
       "      <td>NaN</td>\n",
       "    </tr>\n",
       "  </tbody>\n",
       "</table>\n",
       "</div>"
      ],
      "text/plain": [
       "  resourceType    id meta_versionId                 meta_lastUpdated  \\\n",
       "0    Condition  1077              1 2022-07-27 07:12:02.341000+00:00   \n",
       "1    Condition  1078              1 2022-07-27 07:12:02.341000+00:00   \n",
       "2    Condition  1079              1 2022-07-27 07:12:02.341000+00:00   \n",
       "3    Condition  1080              1 2022-07-27 07:12:02.341000+00:00   \n",
       "4    Condition  1081              1 2022-07-27 07:12:02.341000+00:00   \n",
       "\n",
       "         meta_source                  code_coding_0_system code_coding_0_code  \\\n",
       "0  #oHMhBq6cAstLdzrN  http://id.who.int/icd/release/11/mms             RA01.0   \n",
       "1  #oHMhBq6cAstLdzrN  http://id.who.int/icd/release/11/mms             RA01.0   \n",
       "2  #oHMhBq6cAstLdzrN  http://id.who.int/icd/release/11/mms             RA01.0   \n",
       "3  #oHMhBq6cAstLdzrN  http://id.who.int/icd/release/11/mms             RA01.0   \n",
       "4  #oHMhBq6cAstLdzrN  http://id.who.int/icd/release/11/mms             RA01.0   \n",
       "\n",
       "        code_coding_0_display code_text subject_reference  \\\n",
       "0  COVID-19, virus identified  COVID-19       Patient/899   \n",
       "1  COVID-19, virus identified  COVID-19       Patient/900   \n",
       "2  COVID-19, virus identified  COVID-19       Patient/901   \n",
       "3  COVID-19, virus identified  COVID-19       Patient/902   \n",
       "4  COVID-19, virus identified  COVID-19       Patient/903   \n",
       "\n",
       "  clinicalStatus_coding_0_system clinicalStatus_coding_0_code  \\\n",
       "0                            NaN                          NaN   \n",
       "1                            NaN                          NaN   \n",
       "2                            NaN                          NaN   \n",
       "3                            NaN                          NaN   \n",
       "4                            NaN                          NaN   \n",
       "\n",
       "  clinicalStatus_coding_0_display  \n",
       "0                             NaN  \n",
       "1                             NaN  \n",
       "2                             NaN  \n",
       "3                             NaN  \n",
       "4                             NaN  "
      ]
     },
     "execution_count": 74,
     "metadata": {},
     "output_type": "execute_result"
    }
   ],
   "source": [
    "dfs[1].head()"
   ]
  },
  {
   "cell_type": "markdown",
   "metadata": {
    "pycharm": {
     "name": "#%% md\n"
    },
    "slideshow": {
     "slide_type": "slide"
    }
   },
   "source": [
    "## Converting a list of resources to a dataframe\n",
    "\n",
    "Any list of resources (pydantic models or dicts) can be converted to a dataframe using the `flatten()` method."
   ]
  },
  {
   "cell_type": "code",
   "execution_count": 75,
   "metadata": {
    "pycharm": {
     "name": "#%%\n"
    }
   },
   "outputs": [],
   "source": [
    "from fhir_kindling.serde import flatten_resources\n",
    "\n",
    "# get a list of patient resources\n",
    "patients = server.query(\"Patient\").limit(100).resources"
   ]
  },
  {
   "cell_type": "code",
   "execution_count": 76,
   "metadata": {
    "pycharm": {
     "name": "#%%\n"
    }
   },
   "outputs": [
    {
     "data": {
      "text/html": [
       "<div>\n",
       "<style scoped>\n",
       "    .dataframe tbody tr th:only-of-type {\n",
       "        vertical-align: middle;\n",
       "    }\n",
       "\n",
       "    .dataframe tbody tr th {\n",
       "        vertical-align: top;\n",
       "    }\n",
       "\n",
       "    .dataframe thead th {\n",
       "        text-align: right;\n",
       "    }\n",
       "</style>\n",
       "<table border=\"1\" class=\"dataframe\">\n",
       "  <thead>\n",
       "    <tr style=\"text-align: right;\">\n",
       "      <th></th>\n",
       "      <th>resourceType</th>\n",
       "      <th>id</th>\n",
       "      <th>meta_versionId</th>\n",
       "      <th>meta_lastUpdated</th>\n",
       "      <th>meta_source</th>\n",
       "      <th>text_status</th>\n",
       "      <th>text_div</th>\n",
       "      <th>name_0_family</th>\n",
       "      <th>name_0_given_0</th>\n",
       "      <th>gender</th>\n",
       "      <th>birthDate</th>\n",
       "    </tr>\n",
       "  </thead>\n",
       "  <tbody>\n",
       "    <tr>\n",
       "      <th>0</th>\n",
       "      <td>Patient</td>\n",
       "      <td>1</td>\n",
       "      <td>1</td>\n",
       "      <td>2022-06-08 10:36:17.669000+00:00</td>\n",
       "      <td>#SCHsV8ok4VcRcOjM</td>\n",
       "      <td>generated</td>\n",
       "      <td>&lt;div xmlns=\"http://www.w3.org/1999/xhtml\"&gt;&lt;div...</td>\n",
       "      <td>Novara</td>\n",
       "      <td>Duncann</td>\n",
       "      <td>male</td>\n",
       "      <td>1968-08-08</td>\n",
       "    </tr>\n",
       "    <tr>\n",
       "      <th>1</th>\n",
       "      <td>Patient</td>\n",
       "      <td>2</td>\n",
       "      <td>1</td>\n",
       "      <td>2022-06-08 10:36:17.669000+00:00</td>\n",
       "      <td>#SCHsV8ok4VcRcOjM</td>\n",
       "      <td>generated</td>\n",
       "      <td>&lt;div xmlns=\"http://www.w3.org/1999/xhtml\"&gt;&lt;div...</td>\n",
       "      <td>Weisman</td>\n",
       "      <td>Damiso</td>\n",
       "      <td>other</td>\n",
       "      <td>1981-01-26</td>\n",
       "    </tr>\n",
       "    <tr>\n",
       "      <th>2</th>\n",
       "      <td>Patient</td>\n",
       "      <td>3</td>\n",
       "      <td>1</td>\n",
       "      <td>2022-06-08 10:36:17.669000+00:00</td>\n",
       "      <td>#SCHsV8ok4VcRcOjM</td>\n",
       "      <td>generated</td>\n",
       "      <td>&lt;div xmlns=\"http://www.w3.org/1999/xhtml\"&gt;&lt;div...</td>\n",
       "      <td>Newball</td>\n",
       "      <td>Kimbrick</td>\n",
       "      <td>male</td>\n",
       "      <td>1994-12-30</td>\n",
       "    </tr>\n",
       "    <tr>\n",
       "      <th>3</th>\n",
       "      <td>Patient</td>\n",
       "      <td>4</td>\n",
       "      <td>1</td>\n",
       "      <td>2022-06-08 10:36:17.669000+00:00</td>\n",
       "      <td>#SCHsV8ok4VcRcOjM</td>\n",
       "      <td>generated</td>\n",
       "      <td>&lt;div xmlns=\"http://www.w3.org/1999/xhtml\"&gt;&lt;div...</td>\n",
       "      <td>Gargan</td>\n",
       "      <td>Chanae</td>\n",
       "      <td>female</td>\n",
       "      <td>1969-12-07</td>\n",
       "    </tr>\n",
       "    <tr>\n",
       "      <th>4</th>\n",
       "      <td>Patient</td>\n",
       "      <td>5</td>\n",
       "      <td>1</td>\n",
       "      <td>2022-06-08 10:36:17.669000+00:00</td>\n",
       "      <td>#SCHsV8ok4VcRcOjM</td>\n",
       "      <td>generated</td>\n",
       "      <td>&lt;div xmlns=\"http://www.w3.org/1999/xhtml\"&gt;&lt;div...</td>\n",
       "      <td>Aromin</td>\n",
       "      <td>Kallysta</td>\n",
       "      <td>male</td>\n",
       "      <td>1943-11-06</td>\n",
       "    </tr>\n",
       "    <tr>\n",
       "      <th>...</th>\n",
       "      <td>...</td>\n",
       "      <td>...</td>\n",
       "      <td>...</td>\n",
       "      <td>...</td>\n",
       "      <td>...</td>\n",
       "      <td>...</td>\n",
       "      <td>...</td>\n",
       "      <td>...</td>\n",
       "      <td>...</td>\n",
       "      <td>...</td>\n",
       "      <td>...</td>\n",
       "    </tr>\n",
       "    <tr>\n",
       "      <th>95</th>\n",
       "      <td>Patient</td>\n",
       "      <td>96</td>\n",
       "      <td>1</td>\n",
       "      <td>2022-06-08 10:36:17.669000+00:00</td>\n",
       "      <td>#SCHsV8ok4VcRcOjM</td>\n",
       "      <td>generated</td>\n",
       "      <td>&lt;div xmlns=\"http://www.w3.org/1999/xhtml\"&gt;&lt;div...</td>\n",
       "      <td>Balitas</td>\n",
       "      <td>Eligijus</td>\n",
       "      <td>female</td>\n",
       "      <td>1989-11-05</td>\n",
       "    </tr>\n",
       "    <tr>\n",
       "      <th>96</th>\n",
       "      <td>Patient</td>\n",
       "      <td>97</td>\n",
       "      <td>1</td>\n",
       "      <td>2022-06-08 10:36:17.669000+00:00</td>\n",
       "      <td>#SCHsV8ok4VcRcOjM</td>\n",
       "      <td>generated</td>\n",
       "      <td>&lt;div xmlns=\"http://www.w3.org/1999/xhtml\"&gt;&lt;div...</td>\n",
       "      <td>Kliskey</td>\n",
       "      <td>Quierra</td>\n",
       "      <td>other</td>\n",
       "      <td>2000-11-14</td>\n",
       "    </tr>\n",
       "    <tr>\n",
       "      <th>97</th>\n",
       "      <td>Patient</td>\n",
       "      <td>98</td>\n",
       "      <td>1</td>\n",
       "      <td>2022-06-08 10:36:17.669000+00:00</td>\n",
       "      <td>#SCHsV8ok4VcRcOjM</td>\n",
       "      <td>generated</td>\n",
       "      <td>&lt;div xmlns=\"http://www.w3.org/1999/xhtml\"&gt;&lt;div...</td>\n",
       "      <td>Arya</td>\n",
       "      <td>Welsey</td>\n",
       "      <td>female</td>\n",
       "      <td>1981-08-26</td>\n",
       "    </tr>\n",
       "    <tr>\n",
       "      <th>98</th>\n",
       "      <td>Patient</td>\n",
       "      <td>99</td>\n",
       "      <td>1</td>\n",
       "      <td>2022-06-08 10:36:17.669000+00:00</td>\n",
       "      <td>#SCHsV8ok4VcRcOjM</td>\n",
       "      <td>generated</td>\n",
       "      <td>&lt;div xmlns=\"http://www.w3.org/1999/xhtml\"&gt;&lt;div...</td>\n",
       "      <td>Zaxas</td>\n",
       "      <td>Juawan</td>\n",
       "      <td>male</td>\n",
       "      <td>1951-03-10</td>\n",
       "    </tr>\n",
       "    <tr>\n",
       "      <th>99</th>\n",
       "      <td>Patient</td>\n",
       "      <td>100</td>\n",
       "      <td>1</td>\n",
       "      <td>2022-06-08 10:36:17.669000+00:00</td>\n",
       "      <td>#SCHsV8ok4VcRcOjM</td>\n",
       "      <td>generated</td>\n",
       "      <td>&lt;div xmlns=\"http://www.w3.org/1999/xhtml\"&gt;&lt;div...</td>\n",
       "      <td>Aiola</td>\n",
       "      <td>Tyniqua</td>\n",
       "      <td>male</td>\n",
       "      <td>1921-09-30</td>\n",
       "    </tr>\n",
       "  </tbody>\n",
       "</table>\n",
       "<p>100 rows × 11 columns</p>\n",
       "</div>"
      ],
      "text/plain": [
       "   resourceType   id meta_versionId                 meta_lastUpdated  \\\n",
       "0       Patient    1              1 2022-06-08 10:36:17.669000+00:00   \n",
       "1       Patient    2              1 2022-06-08 10:36:17.669000+00:00   \n",
       "2       Patient    3              1 2022-06-08 10:36:17.669000+00:00   \n",
       "3       Patient    4              1 2022-06-08 10:36:17.669000+00:00   \n",
       "4       Patient    5              1 2022-06-08 10:36:17.669000+00:00   \n",
       "..          ...  ...            ...                              ...   \n",
       "95      Patient   96              1 2022-06-08 10:36:17.669000+00:00   \n",
       "96      Patient   97              1 2022-06-08 10:36:17.669000+00:00   \n",
       "97      Patient   98              1 2022-06-08 10:36:17.669000+00:00   \n",
       "98      Patient   99              1 2022-06-08 10:36:17.669000+00:00   \n",
       "99      Patient  100              1 2022-06-08 10:36:17.669000+00:00   \n",
       "\n",
       "          meta_source text_status  \\\n",
       "0   #SCHsV8ok4VcRcOjM   generated   \n",
       "1   #SCHsV8ok4VcRcOjM   generated   \n",
       "2   #SCHsV8ok4VcRcOjM   generated   \n",
       "3   #SCHsV8ok4VcRcOjM   generated   \n",
       "4   #SCHsV8ok4VcRcOjM   generated   \n",
       "..                ...         ...   \n",
       "95  #SCHsV8ok4VcRcOjM   generated   \n",
       "96  #SCHsV8ok4VcRcOjM   generated   \n",
       "97  #SCHsV8ok4VcRcOjM   generated   \n",
       "98  #SCHsV8ok4VcRcOjM   generated   \n",
       "99  #SCHsV8ok4VcRcOjM   generated   \n",
       "\n",
       "                                             text_div name_0_family  \\\n",
       "0   <div xmlns=\"http://www.w3.org/1999/xhtml\"><div...        Novara   \n",
       "1   <div xmlns=\"http://www.w3.org/1999/xhtml\"><div...       Weisman   \n",
       "2   <div xmlns=\"http://www.w3.org/1999/xhtml\"><div...       Newball   \n",
       "3   <div xmlns=\"http://www.w3.org/1999/xhtml\"><div...        Gargan   \n",
       "4   <div xmlns=\"http://www.w3.org/1999/xhtml\"><div...        Aromin   \n",
       "..                                                ...           ...   \n",
       "95  <div xmlns=\"http://www.w3.org/1999/xhtml\"><div...       Balitas   \n",
       "96  <div xmlns=\"http://www.w3.org/1999/xhtml\"><div...       Kliskey   \n",
       "97  <div xmlns=\"http://www.w3.org/1999/xhtml\"><div...          Arya   \n",
       "98  <div xmlns=\"http://www.w3.org/1999/xhtml\"><div...         Zaxas   \n",
       "99  <div xmlns=\"http://www.w3.org/1999/xhtml\"><div...         Aiola   \n",
       "\n",
       "   name_0_given_0  gender   birthDate  \n",
       "0         Duncann    male  1968-08-08  \n",
       "1          Damiso   other  1981-01-26  \n",
       "2        Kimbrick    male  1994-12-30  \n",
       "3          Chanae  female  1969-12-07  \n",
       "4        Kallysta    male  1943-11-06  \n",
       "..            ...     ...         ...  \n",
       "95       Eligijus  female  1989-11-05  \n",
       "96        Quierra   other  2000-11-14  \n",
       "97         Welsey  female  1981-08-26  \n",
       "98         Juawan    male  1951-03-10  \n",
       "99        Tyniqua    male  1921-09-30  \n",
       "\n",
       "[100 rows x 11 columns]"
      ]
     },
     "execution_count": 76,
     "metadata": {},
     "output_type": "execute_result"
    }
   ],
   "source": [
    "flatten_resources(patients)"
   ]
  },
  {
   "cell_type": "markdown",
   "metadata": {
    "slideshow": {
     "slide_type": "slide"
    },
    "pycharm": {
     "name": "#%% md\n"
    }
   },
   "source": [
    "## Additional CRUD operations\n",
    "\n",
    "All other CRUD operations (and their asynchronous equivalents) are exposed as methods on the `FhirServer` object.\n",
    "\n",
    "- Create: `add()`, `add_all()`\n",
    "- Read: `get()`\n",
    "- Update: `update()`\n",
    "- Delete: `delete()`"
   ]
  },
  {
   "cell_type": "markdown",
   "metadata": {
    "slideshow": {
     "slide_type": "slide"
    },
    "pycharm": {
     "name": "#%% md\n"
    }
   },
   "source": [
    "### Adding resources & resource validation\n",
    "\n",
    "- Resources as pydantic models or simple dictionaries. \n",
    "- Dictionaries are validated with the corresponding model before being added to the server\n"
   ]
  },
  {
   "cell_type": "code",
   "execution_count": 80,
   "metadata": {
    "slideshow": {
     "slide_type": "slide"
    },
    "pycharm": {
     "name": "#%%\n"
    }
   },
   "outputs": [
    {
     "data": {
      "text/plain": [
       "<ResourceCreateResponse(resource_id=1643, location=https://demo.personalhealthtrain.de/demo-fhir-3/Patient/1643, version=None)>"
      ]
     },
     "execution_count": 80,
     "metadata": {},
     "output_type": "execute_result"
    }
   ],
   "source": [
    "patient_dict = {\"resourceType\": \"Patient\", \"birthDate\": \"2000-01-01\", \"name\": [{\"family\": \"Mustermann\", \"given\": [\"Max\"]}]}\n",
    "server.add(patient_dict)"
   ]
  },
  {
   "cell_type": "markdown",
   "metadata": {
    "slideshow": {
     "slide_type": "slide"
    },
    "pycharm": {
     "name": "#%% md\n"
    }
   },
   "source": [
    "### Get, Update, Delete"
   ]
  },
  {
   "cell_type": "code",
   "execution_count": 81,
   "metadata": {
    "slideshow": {
     "slide_type": "slide"
    },
    "pycharm": {
     "name": "#%%\n"
    }
   },
   "outputs": [
    {
     "data": {
      "text/plain": [
       "datetime.date(2000, 1, 1)"
      ]
     },
     "execution_count": 81,
     "metadata": {},
     "output_type": "execute_result"
    }
   ],
   "source": [
    "patient = server.get(\"Patient/1643\")\n",
    "patient.birthDate "
   ]
  },
  {
   "cell_type": "code",
   "execution_count": 82,
   "metadata": {
    "slideshow": {
     "slide_type": "fragment"
    },
    "pycharm": {
     "name": "#%%\n"
    }
   },
   "outputs": [
    {
     "data": {
      "text/plain": [
       "datetime.date(1990, 1, 1)"
      ]
     },
     "execution_count": 82,
     "metadata": {},
     "output_type": "execute_result"
    }
   ],
   "source": [
    "import datetime\n",
    "\n",
    "patient.birthDate = datetime.date(1990, 1, 1)\n",
    "server.update([patient])\n",
    "updated = server.get(\"Patient/1643\")\n",
    "updated.birthDate"
   ]
  },
  {
   "cell_type": "code",
   "execution_count": 84,
   "metadata": {
    "slideshow": {
     "slide_type": "fragment"
    },
    "pycharm": {
     "name": "#%%\n"
    }
   },
   "outputs": [
    {
     "ename": "HTTPStatusError",
     "evalue": "Client error '410 ' for url 'https://demo.personalhealthtrain.de/demo-fhir-3/Patient/1643'\nFor more information check: https://httpstatuses.com/410",
     "output_type": "error",
     "traceback": [
      "\u001B[1;31m---------------------------------------------------------------------------\u001B[0m",
      "\u001B[1;31mHTTPStatusError\u001B[0m                           Traceback (most recent call last)",
      "Input \u001B[1;32mIn [84]\u001B[0m, in \u001B[0;36m<cell line: 2>\u001B[1;34m()\u001B[0m\n\u001B[0;32m      1\u001B[0m server\u001B[38;5;241m.\u001B[39mdelete([updated])\n\u001B[1;32m----> 2\u001B[0m \u001B[43mserver\u001B[49m\u001B[38;5;241;43m.\u001B[39;49m\u001B[43mget\u001B[49m\u001B[43m(\u001B[49m\u001B[38;5;124;43m\"\u001B[39;49m\u001B[38;5;124;43mPatient/1643\u001B[39;49m\u001B[38;5;124;43m\"\u001B[39;49m\u001B[43m)\u001B[49m\n",
      "File \u001B[1;32m~\\.virtualenvs\\fhir_kindling-4Qq52x2x\\lib\\site-packages\\fhir_kindling\\fhir_server\\fhir_server.py:252\u001B[0m, in \u001B[0;36mFhirServer.get\u001B[1;34m(self, reference)\u001B[0m\n\u001B[0;32m    250\u001B[0m \u001B[38;5;28;01mwith\u001B[39;00m \u001B[38;5;28mself\u001B[39m\u001B[38;5;241m.\u001B[39m_sync_client() \u001B[38;5;28;01mas\u001B[39;00m client:\n\u001B[0;32m    251\u001B[0m     r \u001B[38;5;241m=\u001B[39m client\u001B[38;5;241m.\u001B[39mget(\u001B[38;5;124mf\u001B[39m\u001B[38;5;124m\"\u001B[39m\u001B[38;5;132;01m{\u001B[39;00m\u001B[38;5;28mself\u001B[39m\u001B[38;5;241m.\u001B[39mapi_address\u001B[38;5;132;01m}\u001B[39;00m\u001B[38;5;124m/\u001B[39m\u001B[38;5;132;01m{\u001B[39;00mreference\u001B[38;5;132;01m}\u001B[39;00m\u001B[38;5;124m\"\u001B[39m)\n\u001B[1;32m--> 252\u001B[0m \u001B[43mr\u001B[49m\u001B[38;5;241;43m.\u001B[39;49m\u001B[43mraise_for_status\u001B[49m\u001B[43m(\u001B[49m\u001B[43m)\u001B[49m\n\u001B[0;32m    253\u001B[0m resource_dict \u001B[38;5;241m=\u001B[39m r\u001B[38;5;241m.\u001B[39mjson()\n\u001B[0;32m    254\u001B[0m resource \u001B[38;5;241m=\u001B[39m construct_fhir_element(resource_dict[\u001B[38;5;124m\"\u001B[39m\u001B[38;5;124mresourceType\u001B[39m\u001B[38;5;124m\"\u001B[39m], resource_dict)\n",
      "File \u001B[1;32m~\\.virtualenvs\\fhir_kindling-4Qq52x2x\\lib\\site-packages\\httpx\\_models.py:736\u001B[0m, in \u001B[0;36mResponse.raise_for_status\u001B[1;34m(self)\u001B[0m\n\u001B[0;32m    734\u001B[0m error_type \u001B[38;5;241m=\u001B[39m error_types\u001B[38;5;241m.\u001B[39mget(status_class, \u001B[38;5;124m\"\u001B[39m\u001B[38;5;124mInvalid status code\u001B[39m\u001B[38;5;124m\"\u001B[39m)\n\u001B[0;32m    735\u001B[0m message \u001B[38;5;241m=\u001B[39m message\u001B[38;5;241m.\u001B[39mformat(\u001B[38;5;28mself\u001B[39m, error_type\u001B[38;5;241m=\u001B[39merror_type)\n\u001B[1;32m--> 736\u001B[0m \u001B[38;5;28;01mraise\u001B[39;00m HTTPStatusError(message, request\u001B[38;5;241m=\u001B[39mrequest, response\u001B[38;5;241m=\u001B[39m\u001B[38;5;28mself\u001B[39m)\n",
      "\u001B[1;31mHTTPStatusError\u001B[0m: Client error '410 ' for url 'https://demo.personalhealthtrain.de/demo-fhir-3/Patient/1643'\nFor more information check: https://httpstatuses.com/410"
     ]
    }
   ],
   "source": [
    "server.delete([updated])\n",
    "server.get(\"Patient/1643\")"
   ]
  },
  {
   "cell_type": "markdown",
   "metadata": {
    "pycharm": {
     "name": "#%% md\n"
    },
    "slideshow": {
     "slide_type": "slide"
    }
   },
   "source": [
    "## Generating synthetic data\n",
    "\n",
    "Generate complex synthetic data sets using dataset and resource generator functions.\n",
    "Interdependencies between resources and the likelihood of a resource being generated can be defined."
   ]
  },
  {
   "cell_type": "markdown",
   "metadata": {
    "pycharm": {
     "name": "#%% md\n"
    },
    "slideshow": {
     "slide_type": "fragment"
    }
   },
   "source": [
    "\n",
    "This example will generate a dataset with:\n",
    "- Patients\n",
    "- with Covid-19 conditions\n",
    "- a certain likelihood of being vaccinated."
   ]
  },
  {
   "cell_type": "markdown",
   "metadata": {
    "pycharm": {
     "name": "#%% md\n"
    },
    "slideshow": {
     "slide_type": "fragment"
    }
   },
   "source": [
    "Start by importing and defining some constants i.e. Codes for the condition and the vaccination."
   ]
  },
  {
   "cell_type": "code",
   "execution_count": null,
   "metadata": {
    "pycharm": {
     "name": "#%%\n"
    },
    "slideshow": {
     "slide_type": "slide"
    }
   },
   "outputs": [],
   "source": [
    "from fhir.resources.codeableconcept import CodeableConcept\n",
    "from fhir.resources.coding import Coding\n",
    "\n",
    "from fhir_kindling.generators.patient import PatientGenerator\n",
    "from fhir_kindling.generators.resource_generator import ResourceGenerator, GeneratorParameters, FieldValue\n",
    "from fhir_kindling.generators.field_generator import FieldGenerator\n",
    "from fhir_kindling.generators.dataset import DatasetGenerator\n",
    "from fhir_kindling.fhir_query.query_parameters import QueryOperators\n",
    "\n",
    "import pendulum\n",
    "\n",
    "covid_code = CodeableConcept(\n",
    "    coding=[\n",
    "        Coding(\n",
    "            system=\"http://id.who.int/icd/release/11/mms\",\n",
    "            code=\"RA01.0\",\n",
    "            display=\"COVID-19, virus identified\"\n",
    "        )\n",
    "    ],\n",
    "    text=\"COVID-19\"\n",
    ")\n",
    "\n",
    "vaccination_code = CodeableConcept(\n",
    "    coding=[\n",
    "        Coding(\n",
    "            system=\"http://id.who.int/icd/release/11/mms\",\n",
    "            code=\"XM0GQ8\",\n",
    "            display=\"COVID-19 vaccine, RNA based\"\n",
    "        )\n",
    "    ],\n",
    "    text=\"COVID vaccination\"\n",
    ")\n"
   ]
  },
  {
   "cell_type": "markdown",
   "metadata": {
    "pycharm": {
     "name": "#%% md\n"
    },
    "slideshow": {
     "slide_type": "slide"
    }
   },
   "source": [
    "Configure the data set generator and subgenerators"
   ]
  },
  {
   "cell_type": "code",
   "execution_count": null,
   "metadata": {
    "pycharm": {
     "name": "#%%\n"
    }
   },
   "outputs": [],
   "source": [
    "\n",
    "covid_params = GeneratorParameters(\n",
    "    field_values=[\n",
    "        FieldValue(field=\"code\", value=covid_code),\n",
    "    ]\n",
    ")\n",
    "\n",
    "covid_generator = ResourceGenerator(\"Condition\", generator_parameters=covid_params)\n",
    "# add covid conditions to patients\n",
    "dataset_generator.add_resource(covid_generator, name=\"covid\")\n",
    "\n",
    "vaccination_date_generator = FieldGenerator(\n",
    "    field=\"occurrenceDateTime\",\n",
    "    generator_function=lambda: pendulum.now().to_date_string()\n",
    ")\n",
    "\n",
    "first_vax_params = GeneratorParameters(\n",
    "    field_values=[\n",
    "        FieldValue(field=\"vaccineCode\", value=vaccination_code),\n",
    "        FieldValue(field=\"status\", value=\"completed\"),\n",
    "    ],\n",
    "    field_generators=[\n",
    "        vaccination_date_generator\n",
    "    ]\n",
    ")\n"
   ]
  },
  {
   "cell_type": "code",
   "execution_count": null,
   "metadata": {
    "slideshow": {
     "slide_type": "slide"
    },
    "pycharm": {
     "name": "#%%\n"
    }
   },
   "outputs": [],
   "source": [
    "count = 100\n",
    "dataset_generator = DatasetGenerator(\"Patient\", n=count)\n",
    "\n",
    "vaccination_generator = ResourceGenerator(\"Immunization\", generator_parameters=first_vax_params)\n",
    "dataset_generator.add_resource(vaccination_generator, name=\"first_vaccination\", likelihood=0.8)\n",
    "\n",
    "dataset = dataset_generator.generate(ids=True)\n",
    "\n",
    "dataset.upload(server)"
   ]
  },
  {
   "cell_type": "markdown",
   "metadata": {
    "pycharm": {
     "name": "#%% md\n"
    },
    "slideshow": {
     "slide_type": "slide"
    }
   },
   "source": [
    "### Check if our server now has covid patients"
   ]
  },
  {
   "cell_type": "code",
   "execution_count": 85,
   "metadata": {
    "pycharm": {
     "name": "#%%\n"
    }
   },
   "outputs": [
    {
     "data": {
      "text/plain": [
       "<QueryResponse(resource=Patient, format=json, included_resources=['Condition'])>"
      ]
     },
     "execution_count": 85,
     "metadata": {},
     "output_type": "execute_result"
    }
   ],
   "source": [
    "covid_query = server.query(\"Patient\").has(\n",
    "    resource=\"Condition\",\n",
    "    search_param=\"code\",\n",
    "    operator=QueryOperators.eq,\n",
    "    value=\"RA01.0\",\n",
    "    reference_param=\"subject\",\n",
    ").include(\n",
    "    resource=\"Condition\",\n",
    "    reference_param=\"subject\",\n",
    "    reverse=True\n",
    ")\n",
    "\n",
    "covid_response = covid_query.all()\n",
    "covid_response"
   ]
  },
  {
   "cell_type": "markdown",
   "metadata": {
    "pycharm": {
     "name": "#%% md\n"
    },
    "slideshow": {
     "slide_type": "slide"
    }
   },
   "source": [
    "## Transferring resources from one server to another\n",
    "\n",
    "Use the `transfer()` function on a server object to transfer resources from one server to another while keeping referential integrity and using server assigned IDs.  \n",
    "The transfer is a three-step process:\n",
    "1. Analyze the resources to be transferred and build a DAG modeling the references\n",
    "2. Obtain any missing resources that are referenced from the source server\n",
    "3. Upload the resources to the target server based on the reference DAG"
   ]
  },
  {
   "cell_type": "markdown",
   "metadata": {
    "slideshow": {
     "slide_type": "slide"
    },
    "pycharm": {
     "name": "#%% md\n"
    }
   },
   "source": [
    "### Connect to an additional server and transfer the query results"
   ]
  },
  {
   "cell_type": "code",
   "execution_count": 86,
   "metadata": {
    "pycharm": {
     "name": "#%%\n"
    }
   },
   "outputs": [
    {
     "data": {
      "text/plain": [
       "<TransferResponse(origin_server=https://demo.personalhealthtrain.de/demo-fhir-3, destination_server=https://demo.personalhealthtrain.de/demo-fhir-4, query_parameters=resource='Patient' resource_parameters=None include_parameters=[IncludeParameter(resource='Condition', search_param='subject', target=None, reverse=True, iterate=False)] has_parameters=[ReverseChainParameter(operator=<QueryOperators.eq: 'eq'>, value='RA01.0', resource='Condition', reference_param='subject', search_param='code')], create_responses=<ResourceCreateResponse(resource_id=1543, location=Patient/1543, version=None)>...<ResourceCreateResponse(resource_id=1942, location=Patient/1942, version=None)>)"
      ]
     },
     "execution_count": 86,
     "metadata": {},
     "output_type": "execute_result"
    }
   ],
   "source": [
    "# define a new server\n",
    "transfer_api_url = \"https://demo.personalhealthtrain.de/demo-fhir-4\"\n",
    "transfer_server = FhirServer(api_address=transfer_api_url, username=username, password=password)\n",
    "\n",
    "server.transfer(transfer_server, covid_response)"
   ]
  },
  {
   "cell_type": "markdown",
   "metadata": {
    "slideshow": {
     "slide_type": "slide"
    },
    "pycharm": {
     "name": "#%% md\n"
    }
   },
   "source": [
    "## Outlook\n",
    "\n",
    "- Optimizations for handling large amounts of data\n",
    "\n",
    "### Privacy Methods\n",
    "- use automatic tabular serialization to evaluate bundle responses with methods like k-anonymity\n",
    "- automatic anonymization of fields (i.e. rounding dates to the year recoreded)\n",
    "\n",
    "### User interface\n",
    "- Graphical userinterface to create, save and execute queries\n",
    "- Autocomplete for resources and their fields"
   ]
  },
  {
   "cell_type": "markdown",
   "metadata": {
    "slideshow": {
     "slide_type": "slide"
    },
    "pycharm": {
     "name": "#%% md\n"
    }
   },
   "source": [
    "<center><h2>Questions?</h2></center>\n",
    "\n",
    "\n",
    "<center><h2>Feature requests and contributions are very welcome!</h2></center>"
   ]
  }
 ],
 "metadata": {
  "celltoolbar": "Slideshow",
  "kernelspec": {
   "display_name": "Python 3 (ipykernel)",
   "language": "python",
   "name": "python3"
  },
  "language_info": {
   "codemirror_mode": {
    "name": "ipython",
    "version": 3
   },
   "file_extension": ".py",
   "mimetype": "text/x-python",
   "name": "python",
   "nbconvert_exporter": "python",
   "pygments_lexer": "ipython3",
   "version": "3.9.9"
  }
 },
 "nbformat": 4,
 "nbformat_minor": 1
}